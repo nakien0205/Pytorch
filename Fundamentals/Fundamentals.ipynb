{
 "cells": [
  {
   "cell_type": "code",
   "id": "initial_id",
   "metadata": {
    "collapsed": true,
    "ExecuteTime": {
     "end_time": "2024-11-29T02:08:34.883304Z",
     "start_time": "2024-11-29T02:08:33.758798Z"
    }
   },
   "source": [
    "import torch\n",
    "import pandas as pd\n",
    "import numpy as np\n",
    "import matplotlib.pyplot as plt"
   ],
   "outputs": [],
   "execution_count": 1
  },
  {
   "metadata": {},
   "cell_type": "markdown",
   "source": "### Scalar, Vector, Matrix, Tensor",
   "id": "d8ccfbf81ca3d138"
  },
  {
   "metadata": {
    "ExecuteTime": {
     "end_time": "2024-11-29T02:08:36.966732Z",
     "start_time": "2024-11-29T02:08:36.963083Z"
    }
   },
   "cell_type": "code",
   "source": [
    "scalar = torch.tensor(7)\n",
    "scalar\n",
    "# A scalar is a single number, write as lower case (x,y,z)"
   ],
   "id": "e31fc5cfe3539549",
   "outputs": [
    {
     "data": {
      "text/plain": [
       "tensor(7)"
      ]
     },
     "execution_count": 3,
     "metadata": {},
     "output_type": "execute_result"
    }
   ],
   "execution_count": 3
  },
  {
   "metadata": {
    "ExecuteTime": {
     "end_time": "2024-10-30T01:05:51.241105Z",
     "start_time": "2024-10-30T01:05:51.237650Z"
    }
   },
   "cell_type": "code",
   "source": [
    "vector = torch.tensor([1,2])  # [] indicate 1 dimension, this is 1x1 matrix\n",
    "# A number with direction, like a point in a 1D grid, write as lower case (x,y,z)\n",
    "print(vector)\n",
    "print(vector.ndim)\n",
    "print(vector.shape)"
   ],
   "id": "f43ac6836dce196d",
   "outputs": [
    {
     "name": "stdout",
     "output_type": "stream",
     "text": [
      "tensor([1, 2])\n",
      "1\n",
      "torch.Size([2])\n"
     ]
    }
   ],
   "execution_count": 3
  },
  {
   "metadata": {
    "ExecuteTime": {
     "end_time": "2024-10-30T01:05:51.269641Z",
     "start_time": "2024-10-30T01:05:51.265689Z"
    }
   },
   "cell_type": "code",
   "source": [
    "MAXTRIX = torch.tensor([[1,2],\n",
    "                        [3,4]])  # [[]] indicate 2 dimension, this is 2x2 matrix\n",
    "                                 # Imagine a 2D grid x,y. If you mark out the coordinate of the tensor, you get 2 points\n",
    "                                 # From those 2 points, draw a line perpendicular to the x-axis and the y-axis, you get a 2x2 matrix\n",
    "# A matrix is a 2D grid of numbers, write as upper case (X,Y,Z)\n",
    "print(MAXTRIX)\n",
    "print(MAXTRIX.ndim)\n",
    "print(MAXTRIX.shape)"
   ],
   "id": "1e6d79bd8ede0fbd",
   "outputs": [
    {
     "name": "stdout",
     "output_type": "stream",
     "text": [
      "tensor([[1, 2],\n",
      "        [3, 4]])\n",
      "2\n",
      "torch.Size([2, 2])\n"
     ]
    }
   ],
   "execution_count": 4
  },
  {
   "metadata": {
    "ExecuteTime": {
     "end_time": "2024-10-30T01:05:51.329314Z",
     "start_time": "2024-10-30T01:05:51.325278Z"
    }
   },
   "cell_type": "code",
   "source": [
    "TENSOR = torch.tensor([[[1,2,3],\n",
    "                        [4,5,6],\n",
    "                        [7,8,9]]])  # this is 3D, 1x3x3 matrix\n",
    "                                    # the same goes for this tensor, draw out the x,y,z grid and do the same thing as above\n",
    "# A tensor is an n-dimensional grid of numbers, write as upper case (X,Y,Z)\n",
    "print(TENSOR)\n",
    "print(TENSOR.ndim)\n",
    "print(TENSOR.shape)"
   ],
   "id": "c4a68e4656154a2d",
   "outputs": [
    {
     "name": "stdout",
     "output_type": "stream",
     "text": [
      "tensor([[[1, 2, 3],\n",
      "         [4, 5, 6],\n",
      "         [7, 8, 9]]])\n",
      "3\n",
      "torch.Size([1, 3, 3])\n"
     ]
    }
   ],
   "execution_count": 5
  },
  {
   "metadata": {},
   "cell_type": "markdown",
   "source": "### Random Tensor\n",
   "id": "bb331be289c706dd"
  },
  {
   "metadata": {},
   "cell_type": "markdown",
   "source": [
    "Random tensor is the way how neural network learns, they take in crap and process through many epoch to get results. Those result aren't going to be optimal and may require many epoch to reach its most optimal form. If the number of epoch is not handle with care, it may overfit the model\n",
    "\n",
    "Start with random number -> process data -> get result -> compare result with actual data -> adjust the model -> repeat \n",
    "That is 1 cycle or 1 epoch"
   ],
   "id": "191d43a7c7f31468"
  },
  {
   "metadata": {
    "ExecuteTime": {
     "end_time": "2024-10-30T01:05:51.366952Z",
     "start_time": "2024-10-30T01:05:51.361538Z"
    }
   },
   "cell_type": "code",
   "source": [
    "random_tensor_matrix = torch.rand(3,3)  # Argument is the shape of the tensor\n",
    "random_tensor_matrix"
   ],
   "id": "b0e979e664ec0752",
   "outputs": [
    {
     "data": {
      "text/plain": [
       "tensor([[0.6367, 0.1821, 0.4329],\n",
       "        [0.0773, 0.2604, 0.8853],\n",
       "        [0.3976, 0.7634, 0.9084]])"
      ]
     },
     "execution_count": 6,
     "metadata": {},
     "output_type": "execute_result"
    }
   ],
   "execution_count": 6
  },
  {
   "metadata": {
    "ExecuteTime": {
     "end_time": "2024-10-30T01:05:51.427785Z",
     "start_time": "2024-10-30T01:05:51.424515Z"
    }
   },
   "cell_type": "code",
   "source": [
    "random_tensor_tensor = torch.rand(1,3,3)\n",
    "print(random_tensor_tensor)"
   ],
   "id": "2fd17caacd0ba616",
   "outputs": [
    {
     "name": "stdout",
     "output_type": "stream",
     "text": [
      "tensor([[[0.8225, 0.5873, 0.9205],\n",
      "         [0.5286, 0.4331, 0.2565],\n",
      "         [0.5432, 0.1095, 0.6904]]])\n"
     ]
    }
   ],
   "execution_count": 7
  },
  {
   "metadata": {},
   "cell_type": "markdown",
   "source": "Random Image Tensor",
   "id": "19e7d5acbcd4cfd0"
  },
  {
   "metadata": {
    "ExecuteTime": {
     "end_time": "2024-10-30T01:05:51.535554Z",
     "start_time": "2024-10-30T01:05:51.505113Z"
    }
   },
   "cell_type": "code",
   "source": [
    "random_image_tensor = torch.rand(size=(1920,1080,3))  # size=(width, height, color channel) color channel is RGB\n",
    "#random_image_tensor = torch.rand(size=(3,1080,1920))   size=(color channel, height, width) is fine\n",
    "# Let say you have an image with 1920x1080 resolution compact with 3 color channel: Red, Green and Blue\n",
    "# The tensor will take the image and split it into 3 color channel\n",
    "random_image_tensor"
   ],
   "id": "59f06aba1a430d09",
   "outputs": [
    {
     "data": {
      "text/plain": [
       "tensor([[[0.5470, 0.6917, 0.2896],\n",
       "         [0.3030, 0.5080, 0.8564],\n",
       "         [0.3006, 0.7739, 0.9914],\n",
       "         ...,\n",
       "         [0.6135, 0.9080, 0.4648],\n",
       "         [0.0507, 0.7956, 0.5716],\n",
       "         [0.5450, 0.3637, 0.5883]],\n",
       "\n",
       "        [[0.0192, 0.5474, 0.8520],\n",
       "         [0.9231, 0.4058, 0.7445],\n",
       "         [0.6092, 0.2069, 0.9067],\n",
       "         ...,\n",
       "         [0.6392, 0.6253, 0.7496],\n",
       "         [0.6993, 0.0503, 0.8571],\n",
       "         [0.6060, 0.1818, 0.6628]],\n",
       "\n",
       "        [[0.0985, 0.7736, 0.6471],\n",
       "         [0.1562, 0.9470, 0.5502],\n",
       "         [0.6551, 0.3307, 0.8451],\n",
       "         ...,\n",
       "         [0.8329, 0.6716, 0.2617],\n",
       "         [0.4471, 0.8160, 0.8034],\n",
       "         [0.0054, 0.9270, 0.8438]],\n",
       "\n",
       "        ...,\n",
       "\n",
       "        [[0.6548, 0.8278, 0.8129],\n",
       "         [0.8732, 0.6648, 0.7095],\n",
       "         [0.4947, 0.2611, 0.6466],\n",
       "         ...,\n",
       "         [0.1825, 0.0968, 0.6552],\n",
       "         [0.5583, 0.6992, 0.8072],\n",
       "         [0.4823, 0.4259, 0.9328]],\n",
       "\n",
       "        [[0.3398, 0.8156, 0.1077],\n",
       "         [0.1205, 0.7580, 0.7397],\n",
       "         [0.8634, 0.3548, 0.0239],\n",
       "         ...,\n",
       "         [0.5021, 0.1532, 0.1201],\n",
       "         [0.9256, 0.0676, 0.2157],\n",
       "         [0.3517, 0.4980, 0.0610]],\n",
       "\n",
       "        [[0.5341, 0.0068, 0.4583],\n",
       "         [0.1970, 0.1321, 0.7024],\n",
       "         [0.7681, 0.2877, 0.1039],\n",
       "         ...,\n",
       "         [0.2573, 0.1323, 0.5958],\n",
       "         [0.9555, 0.6772, 0.6892],\n",
       "         [0.9883, 0.3252, 0.3316]]])"
      ]
     },
     "execution_count": 8,
     "metadata": {},
     "output_type": "execute_result"
    }
   ],
   "execution_count": 8
  },
  {
   "metadata": {},
   "cell_type": "markdown",
   "source": "Zeros and Ones Tensor",
   "id": "2369b5a71ffece20"
  },
  {
   "metadata": {
    "ExecuteTime": {
     "end_time": "2024-11-25T02:22:30.242004Z",
     "start_time": "2024-11-25T02:22:30.131396Z"
    }
   },
   "cell_type": "code",
   "source": [
    "zero = torch.zeros(size=(3,3)) \n",
    "zero"
   ],
   "id": "57605b2fe1f7bc51",
   "outputs": [
    {
     "data": {
      "text/plain": [
       "tensor([[0., 0., 0.],\n",
       "        [0., 0., 0.],\n",
       "        [0., 0., 0.]])"
      ]
     },
     "execution_count": 117,
     "metadata": {},
     "output_type": "execute_result"
    }
   ],
   "execution_count": 117
  },
  {
   "metadata": {
    "ExecuteTime": {
     "end_time": "2024-10-30T01:05:51.811636Z",
     "start_time": "2024-10-30T01:05:51.807967Z"
    }
   },
   "cell_type": "code",
   "source": [
    "one = torch.ones(size=(3,3))\n",
    "one"
   ],
   "id": "fa27e3b551efa0e7",
   "outputs": [
    {
     "data": {
      "text/plain": [
       "tensor([[1., 1., 1.],\n",
       "        [1., 1., 1.],\n",
       "        [1., 1., 1.]])"
      ]
     },
     "execution_count": 10,
     "metadata": {},
     "output_type": "execute_result"
    }
   ],
   "execution_count": 10
  },
  {
   "metadata": {},
   "cell_type": "markdown",
   "source": "Range of tensors and tensors-like",
   "id": "e33022391051d478"
  },
  {
   "metadata": {
    "ExecuteTime": {
     "end_time": "2024-10-30T01:08:20.650464Z",
     "start_time": "2024-10-30T01:08:20.640032Z"
    }
   },
   "cell_type": "code",
   "source": "torch.arange(0,5,1)  # start, end, step",
   "id": "d74a4efcddd2a94d",
   "outputs": [
    {
     "data": {
      "text/plain": [
       "tensor([0, 1, 2, 3, 4])"
      ]
     },
     "execution_count": 13,
     "metadata": {},
     "output_type": "execute_result"
    }
   ],
   "execution_count": 13
  },
  {
   "metadata": {
    "ExecuteTime": {
     "end_time": "2024-10-30T01:20:21.784003Z",
     "start_time": "2024-10-30T01:20:21.777844Z"
    }
   },
   "cell_type": "code",
   "source": [
    "tensor_like = torch.zeros_like(one)  # zeros_like is similar to zeros but the shape is the given tensor\n",
    "tensor_like"
   ],
   "id": "a479f7cfbb490486",
   "outputs": [
    {
     "data": {
      "text/plain": [
       "tensor([[0., 0., 0.],\n",
       "        [0., 0., 0.],\n",
       "        [0., 0., 0.]])"
      ]
     },
     "execution_count": 20,
     "metadata": {},
     "output_type": "execute_result"
    }
   ],
   "execution_count": 20
  },
  {
   "metadata": {},
   "cell_type": "markdown",
   "source": [
    "### Tensor Datatype\n",
    "**Note:** Tensor datatype have 3 main errors:\n",
    "1. **Type Error**: When you try to do operation with different datatype\n",
    "2. **Shape Error**: When you try to do operation with different shape\n",
    "3. **Device Error**: When you try to use the tensor on different device (cpu, gpu), **JUST USE THE GPU(cuda)**"
   ],
   "id": "304538873d9511cf"
  },
  {
   "metadata": {},
   "cell_type": "code",
   "outputs": [],
   "execution_count": null,
   "source": [
    "torch.tensor([[1,2],\n",
    "              [3,4]], dtype=torch.float32,  # Default is float32, has int32, complex32, bool, ...)\n",
    "                      device='cuda',  # Default is 'cpu' but change it to 'cuda' for GPU\n",
    "                      requires_grad=False)  # Default is False, this is for backpropagation\n",
    "\n",
    "# Use this code to set all tensor to using the gpu and avoid Device Error\n",
    "with torch.cuda.device(0):\n",
    "    t1 = torch.tensor([[1, 2, 3], [4, 5, 6]])\n",
    "    t2 = torch.tensor([[7, 8, 9], [10, 11, 12]])"
   ],
   "id": "f665a7f42e7931b1"
  },
  {
   "metadata": {
    "ExecuteTime": {
     "end_time": "2024-10-30T01:41:41.737485Z",
     "start_time": "2024-10-30T01:41:41.731971Z"
    }
   },
   "cell_type": "code",
   "source": [
    "torch.Tensor([[1,2],\n",
    "              [3,4]])  # Different from torch.tensor, this can create tensor like normal\n",
    "torch.Tensor(2,2)  # But if pass in size instead of a particular tensor, it will create a random tensor"
   ],
   "id": "d221528951f1bff4",
   "outputs": [
    {
     "data": {
      "text/plain": [
       "tensor([[0., 0.],\n",
       "        [0., 0.]])"
      ]
     },
     "execution_count": 26,
     "metadata": {},
     "output_type": "execute_result"
    }
   ],
   "execution_count": 26
  },
  {
   "metadata": {
    "ExecuteTime": {
     "end_time": "2024-11-28T00:14:05.162786Z",
     "start_time": "2024-11-28T00:14:05.159148Z"
    }
   },
   "cell_type": "code",
   "source": [
    "# This code is use for setting the device to gpu and showing the memory usage\n",
    "device = torch.device('cuda' if torch.cuda.is_available() else 'cpu')\n",
    "torch.device('cuda' if torch.cuda.is_available() else 'cpu')\n",
    "print('Using device:', device)\n",
    "print()\n",
    "\n",
    "# Additional Info when using cuda\n",
    "if device.type == 'cuda':\n",
    "    print(torch.cuda.get_device_name(0))\n",
    "    print('Memory Usage:')\n",
    "    print('Allocated:', round(torch.cuda.memory_allocated(0)/1024**3,1), 'GB')\n",
    "    print('Cached:   ', round(torch.cuda.memory_reserved(0)/1024**3,1), 'GB')"
   ],
   "id": "a23d76f505b4412e",
   "outputs": [
    {
     "name": "stdout",
     "output_type": "stream",
     "text": [
      "Using device: cuda\n",
      "\n",
      "NVIDIA GeForce RTX 4060 Laptop GPU\n",
      "Memory Usage:\n",
      "Allocated: 0.0 GB\n",
      "Cached:    0.0 GB\n"
     ]
    }
   ],
   "execution_count": 7
  },
  {
   "metadata": {},
   "cell_type": "markdown",
   "source": [
    "### Tensor Operations\n",
    "1. **Addition**\n",
    "2. **Subtraction**\n",
    "3. **Multiplication**\n",
    "4. **Division**\n",
    "5. **Matrix Multiplication**: When multiplying 2 matrix together, the number of column in the first matrix must be equal to the number of row in the second matrix (axb * cxd = axd if b=c => axb * bxd = axd) if forgot basic go to http://matrixmultiplication.xyz"
   ],
   "id": "76f4aa30c5512ff5"
  },
  {
   "metadata": {
    "ExecuteTime": {
     "end_time": "2024-11-19T08:56:32.058019Z",
     "start_time": "2024-11-19T08:56:32.053240Z"
    }
   },
   "cell_type": "code",
   "source": [
    "test = torch.tensor([[1,2,3],\n",
    "                     [4,5,6],\n",
    "                     [7,8,9]])\n",
    "print(test + 10)  # torch.add(test, 10)\n",
    "print(test - 10)  # torch.sub(test, 10)\n",
    "print(test * 10)  # torch.mul(test, 10)\n",
    "print(test / 10)  # torch.div(test, 10)\n",
    "print(torch.matmul(test, test))\n",
    "print(test.mT)  # Transpose the matrix"
   ],
   "id": "398b321620e5011",
   "outputs": [
    {
     "name": "stdout",
     "output_type": "stream",
     "text": [
      "tensor([[[11, 12, 13],\n",
      "         [14, 15, 16],\n",
      "         [17, 18, 19]]])\n",
      "tensor([[[-9, -8, -7],\n",
      "         [-6, -5, -4],\n",
      "         [-3, -2, -1]]])\n",
      "tensor([[[10, 20, 30],\n",
      "         [40, 50, 60],\n",
      "         [70, 80, 90]]])\n",
      "tensor([[[0.1000, 0.2000, 0.3000],\n",
      "         [0.4000, 0.5000, 0.6000],\n",
      "         [0.7000, 0.8000, 0.9000]]])\n",
      "tensor([[[ 30,  36,  42],\n",
      "         [ 66,  81,  96],\n",
      "         [102, 126, 150]]])\n",
      "tensor([[[1, 4, 7],\n",
      "         [2, 5, 8],\n",
      "         [3, 6, 9]]])\n"
     ]
    }
   ],
   "execution_count": 13
  },
  {
   "metadata": {},
   "cell_type": "markdown",
   "source": "### Min, Max, Sum, Mean, Mode, Median ...",
   "id": "2b165a9a6855003b"
  },
  {
   "metadata": {
    "ExecuteTime": {
     "end_time": "2024-11-22T12:56:40.570663Z",
     "start_time": "2024-11-22T12:56:40.566847Z"
    }
   },
   "cell_type": "code",
   "source": [
    "test = torch.tensor([[1,2,3],\n",
    "                     [4,5,6],\n",
    "                     [7,8,9]])\n",
    "print(test.min())\n",
    "print(test.argmin())  # Find the position of the min value\n",
    "print(test.max())\n",
    "print(test.argmax())  # Find the position of the max value\n",
    "print(test.sum())\n",
    "print(test.mean(dtype=torch.float32))  # Mean must take a float or complex number and int is a Long"
   ],
   "id": "d0fe2ae4507a4b1c",
   "outputs": [
    {
     "name": "stdout",
     "output_type": "stream",
     "text": [
      "tensor(1)\n",
      "tensor(0)\n",
      "tensor(9)\n",
      "tensor(8)\n",
      "tensor(45)\n",
      "tensor(5.)\n"
     ]
    }
   ],
   "execution_count": 35
  },
  {
   "metadata": {},
   "cell_type": "markdown",
   "source": "### Reshape, Squeeze, Unsqueeze, Flatten, Stack",
   "id": "2180d359e35f3d08"
  },
  {
   "metadata": {
    "ExecuteTime": {
     "end_time": "2024-11-25T02:18:54.782254Z",
     "start_time": "2024-11-25T02:18:54.684368Z"
    }
   },
   "cell_type": "code",
   "source": [
    "test = torch.tensor([[1,2,3],\n",
    "                     [4,5,6],\n",
    "                     [7,8,9]])\n",
    "print(torch.arange(1,10,1))  # Give a 1D tensor from 1 to 9 with 1 step\n",
    "print(test.reshape(1,9))  # Reshape the tensor to 1x9, multiplication must be equal: 3x3 = 1x9\n",
    "print(test.view(1,9))  # Same as reshape but if change test then view will also change"
   ],
   "id": "72795c3b6ddd715b",
   "outputs": [
    {
     "name": "stdout",
     "output_type": "stream",
     "text": [
      "tensor([1, 2, 3, 4, 5, 6, 7, 8, 9])\n",
      "tensor([[1, 2, 3, 4, 5, 6, 7, 8, 9]])\n",
      "tensor([[1, 2, 3, 4, 5, 6, 7, 8, 9]])\n",
      "tensor([[1, 4, 7],\n",
      "        [2, 5, 8],\n",
      "        [3, 6, 9]])\n"
     ]
    }
   ],
   "execution_count": 113
  },
  {
   "metadata": {
    "ExecuteTime": {
     "end_time": "2024-11-25T02:20:27.956239Z",
     "start_time": "2024-11-25T02:20:27.944295Z"
    }
   },
   "cell_type": "code",
   "source": [
    "test = torch.tensor([[1,2,3],\n",
    "                     [4,5,6],\n",
    "                     [7,8,9]])\n",
    "tensor = torch.randn(1, 3, 5, 1, 2, 1)\n",
    "print(torch.stack((test, test)).shape)  # Stack = add 2 dimentions at place 0 -> max-1\n",
    "print(test.unsqueeze(0).shape)  # Unsqueeze = add 1 dimentions at place 0 -> max-1\n",
    "\n",
    "\n",
    "print(tensor.squeeze(0,3).shape)  # Remove 1D tensor in specific place\n",
    "print(tensor.squeeze().shape)  # Remove all 1D tensor\n",
    "print(tensor.permute(5,2,0,4,3,1).shape)  # Rearrange the tensor using their index"
   ],
   "id": "5a22f30a2c2af36",
   "outputs": [
    {
     "name": "stdout",
     "output_type": "stream",
     "text": [
      "torch.Size([2, 3, 3])\n",
      "torch.Size([1, 3, 3])\n",
      "torch.Size([3, 5, 2, 1])\n",
      "torch.Size([3, 5, 2])\n",
      "torch.Size([1, 5, 1, 2, 1, 3])\n"
     ]
    }
   ],
   "execution_count": 116
  },
  {
   "metadata": {},
   "cell_type": "markdown",
   "source": "### Indexing and Slicing",
   "id": "709026c86c829b20"
  },
  {
   "metadata": {
    "ExecuteTime": {
     "end_time": "2024-11-25T03:14:34.675147Z",
     "start_time": "2024-11-25T03:14:34.669328Z"
    }
   },
   "cell_type": "code",
   "source": [
    "test = torch.tensor([[1,2,3],\n",
    "                     [4,5,6],\n",
    "                     [7,8,9]])\n",
    "test = test.unsqueeze(0)\n",
    "# Given a 1xaxb matrix\n",
    "print(test[0])  # Get value at 3x3\n",
    "print(test[0,0])  # Get value at 3x1\n",
    "print(test[0,1,2])  # Get value at 1x3x2\n",
    "print(test[0,0:2,0])  # Get value at 1x1x1 and 1x2x1\n",
    "print(test[0,0:2,0:3])\n",
    "print(test[:,:,1].shape)  # : = select all = 0:2\n",
    "print(test[0,0:3,1].shape)\n",
    "### Everytime selecting an index, the dimentions got reduce by 1\n",
    "### Example: test = 1x3x3, test[0] = 3x3, test[0,0] = 3, test[0,0,0] = 1D-array"
   ],
   "id": "351a012d21638cc6",
   "outputs": [
    {
     "name": "stdout",
     "output_type": "stream",
     "text": [
      "tensor([[1, 2, 3],\n",
      "        [4, 5, 6],\n",
      "        [7, 8, 9]])\n",
      "tensor([1, 2, 3])\n",
      "tensor(6)\n",
      "tensor([1, 4])\n",
      "tensor([[1, 2, 3],\n",
      "        [4, 5, 6]])\n",
      "torch.Size([1, 3])\n",
      "torch.Size([3])\n"
     ]
    }
   ],
   "execution_count": 180
  },
  {
   "metadata": {},
   "cell_type": "markdown",
   "source": "### Numpy\n",
   "id": "65925ce29aba43d"
  },
  {
   "metadata": {
    "ExecuteTime": {
     "end_time": "2024-11-25T03:44:51.136166Z",
     "start_time": "2024-11-25T03:44:51.119541Z"
    }
   },
   "cell_type": "code",
   "source": [
    "num = np.arange(0,5)  # Convert numpy to tensor\n",
    "tensor = torch.from_numpy(num)  # numpy always use x64\n",
    "backwards = tensor.numpy()  # Convert tensor to numpy\n",
    "print(tensor.dtype)\n",
    "\n",
    "''' When changing value in tensor, the numpy will also change but not the other way around\n",
    "to prevent this, change the data type of the tensor to x32 before modifying the value '''\n",
    "num_convert = np.arange(0,5)\n",
    "tensor_convert = torch.from_numpy(num_convert).type(torch.int32)  # Change the data type to x32\n",
    "print(tensor_convert.dtype)\n",
    "\n",
    "tensor[0] = -100\n",
    "tensor_convert[0] = -100\n",
    "print('Without conversion (numy):',num)\n",
    "print('Without conversion (tensor):',tensor,'\\n')\n",
    "print('With conversiom (numy):', num_convert)\n",
    "print('With conversiom (numy):', tensor_convert)"
   ],
   "id": "13da3567cb33be1b",
   "outputs": [
    {
     "name": "stdout",
     "output_type": "stream",
     "text": [
      "torch.int64\n",
      "torch.int32\n",
      "Without conversion (numy): [-100    1    2    3    4]\n",
      "Without conversion (tensor): tensor([-100,    1,    2,    3,    4]) \n",
      "\n",
      "With conversiom (numy): [0 1 2 3 4]\n",
      "With conversiom (numy): tensor([-100,    1,    2,    3,    4], dtype=torch.int32)\n"
     ]
    }
   ],
   "execution_count": 214
  },
  {
   "metadata": {},
   "cell_type": "markdown",
   "source": [
    "### Reproducibility (take random out of random)\n",
    "\n",
    "**How NN learn:** Start with random number -> process data -> get result -> compare result with actual data -> adjust the model -> repeat\n",
    "\n",
    "**Manual Seed:** Set a specific random number to the next torch.rand\n",
    "\n",
    "***\n",
    "**torch.rand**: \n",
    "1. Set the random number from [0,1), use when data is uniformly distributed\n",
    "2. If want to set the random number from [a,b), use torch.randint(a,b) or **x_new = torch.rand * (b-a) + a**\n",
    "\n",
    "**torch.randn**:\n",
    " 1. Set the random number from normal distribution with mean = 0 and std = 1, use when data is normally distributed\n",
    "2. If want to set the random number from [a,b), use **x_new = torch.randn * std + mean**"
   ],
   "id": "b1f8b8f7a966d19e"
  },
  {
   "metadata": {
    "ExecuteTime": {
     "end_time": "2024-11-27T04:24:52.912043Z",
     "start_time": "2024-11-27T04:24:52.906585Z"
    }
   },
   "cell_type": "code",
   "source": [
    "torch.manual_seed(999)\n",
    "tensorA = torch.rand(2,2)\n",
    "torch.manual_seed(999)\n",
    "tensorB = torch.rand(2,2)\n",
    "tensorA, tensorB, tensorA == tensorB\n"
   ],
   "id": "d329114faddbfcad",
   "outputs": [
    {
     "data": {
      "text/plain": [
       "(tensor([[0.6776, 0.6531],\n",
       "         [0.0457, 0.9424]]),\n",
       " tensor([[0.6776, 0.6531],\n",
       "         [0.0457, 0.9424]]),\n",
       " tensor([[True, True],\n",
       "         [True, True]]))"
      ]
     },
     "execution_count": 37,
     "metadata": {},
     "output_type": "execute_result"
    }
   ],
   "execution_count": 37
  },
  {
   "metadata": {},
   "cell_type": "markdown",
   "source": [
    "### Accessing the GPU and CPU\n",
    "\n",
    "**Note:** Numpy cannot use the GPU, only tensor can use the GPU"
   ],
   "id": "15ef936a40faaccd"
  },
  {
   "metadata": {
    "ExecuteTime": {
     "end_time": "2024-11-28T00:25:37.441194Z",
     "start_time": "2024-11-28T00:25:37.436077Z"
    }
   },
   "cell_type": "code",
   "source": [
    "tensor = torch.tensor([1,2,3])\n",
    "tensor = tensor.cuda()\n",
    "print(tensor.device)\n",
    "# print(tensor.numpy())  # This will cause an error\n",
    "tensor = tensor.cpu()  # Change the tensor back to using CPU\n",
    "print(tensor.device)\n",
    "print(tensor.numpy())"
   ],
   "id": "37ba6543e3825be4",
   "outputs": [
    {
     "name": "stdout",
     "output_type": "stream",
     "text": [
      "cuda:0\n",
      "cpu\n",
      "[1 2 3]\n"
     ]
    }
   ],
   "execution_count": 85
  }
 ],
 "metadata": {
  "kernelspec": {
   "display_name": "Python 3",
   "language": "python",
   "name": "python3"
  },
  "language_info": {
   "codemirror_mode": {
    "name": "ipython",
    "version": 2
   },
   "file_extension": ".py",
   "mimetype": "text/x-python",
   "name": "python",
   "nbconvert_exporter": "python",
   "pygments_lexer": "ipython2",
   "version": "2.7.6"
  }
 },
 "nbformat": 4,
 "nbformat_minor": 5
}
